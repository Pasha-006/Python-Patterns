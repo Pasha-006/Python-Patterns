{
 "cells": [
  {
   "cell_type": "markdown",
   "metadata": {},
   "source": [
    "# Task 1   SIRSS1062     SHAIK RAHULPASHA"
   ]
  },
  {
   "cell_type": "markdown",
   "metadata": {},
   "source": [
    "# 01\n"
   ]
  },
  {
   "cell_type": "code",
   "execution_count": 1,
   "metadata": {},
   "outputs": [
    {
     "name": "stdout",
     "output_type": "stream",
     "text": [
      "5 5 5 5 5 \n",
      "5 5 5 5 \n",
      "5 5 5 \n",
      "5 5 \n",
      "5 \n",
      "\n"
     ]
    }
   ],
   "source": [
    "row=0\n",
    "while row<=5:\n",
    "    for col in range(0,5-row):\n",
    "        print(5,end=' ')\n",
    "    print(end='\\n')\n",
    "    row+=1\n"
   ]
  },
  {
   "cell_type": "markdown",
   "metadata": {},
   "source": [
    "# 02\n"
   ]
  },
  {
   "cell_type": "code",
   "execution_count": 9,
   "metadata": {},
   "outputs": [
    {
     "name": "stdout",
     "output_type": "stream",
     "text": [
      "0 1 2 3 4 5 \n",
      "0 1 2 3 4 \n",
      "0 1 2 3 \n",
      "0 1 2 \n",
      "0 1 \n"
     ]
    }
   ],
   "source": [
    "row1=0\n",
    "while row1<5:\n",
    "    for col1 in range(0,5-row1+1):\n",
    "        print(col1,end=' ')\n",
    "    print(end='\\n')\n",
    "    row1+=1"
   ]
  },
  {
   "cell_type": "markdown",
   "metadata": {},
   "source": [
    "# 03"
   ]
  },
  {
   "cell_type": "code",
   "execution_count": 21,
   "metadata": {},
   "outputs": [
    {
     "name": "stdout",
     "output_type": "stream",
     "text": [
      "1 \n",
      "3 3 \n",
      "5 5 5 \n",
      "7 7 7 7 \n",
      "9 9 9 9 9 \n"
     ]
    }
   ],
   "source": [
    "row_num=1\n",
    "row=1\n",
    "while row<=5:\n",
    "    col_num=row_num\n",
    "    for col in range(0,row):\n",
    "        print(col_num,end=' ')\n",
    "    print(end='\\n')\n",
    "        \n",
    "    row_num+=2\n",
    "    row+=1"
   ]
  },
  {
   "cell_type": "markdown",
   "metadata": {},
   "source": [
    "# 04"
   ]
  },
  {
   "cell_type": "code",
   "execution_count": 11,
   "metadata": {},
   "outputs": [
    {
     "name": "stdout",
     "output_type": "stream",
     "text": [
      "1 \n",
      "2 1 \n",
      "3 2 1 \n",
      "4 3 2 1 \n",
      "5 4 3 2 1 \n"
     ]
    }
   ],
   "source": [
    "row=1\n",
    "\n",
    "while row<=5:\n",
    "    col=row\n",
    "    while col>=1:\n",
    "        print(col,end=' ')\n",
    "        col-=1\n",
    "    print(end='\\n')\n",
    "    \n",
    "    row+=1"
   ]
  },
  {
   "cell_type": "markdown",
   "metadata": {},
   "source": [
    "# 05"
   ]
  },
  {
   "cell_type": "code",
   "execution_count": 22,
   "metadata": {},
   "outputs": [
    {
     "name": "stdout",
     "output_type": "stream",
     "text": [
      "1 \n",
      "3 2 \n",
      "6 5 4 \n",
      "10 9 8 7 \n"
     ]
    }
   ],
   "source": [
    "row=1\n",
    "num=0\n",
    "while row<5:\n",
    "    col=row\n",
    "    num+=row\n",
    "    while col>=1:\n",
    "        print(num,end=' ')\n",
    "        col-=1\n",
    "        num-=1\n",
    "    print(end='\\n')\n",
    "    num+=row\n",
    "    \n",
    "    row+=1"
   ]
  },
  {
   "cell_type": "markdown",
   "metadata": {},
   "source": [
    "# 06"
   ]
  },
  {
   "cell_type": "code",
   "execution_count": 106,
   "metadata": {},
   "outputs": [
    {
     "name": "stdout",
     "output_type": "stream",
     "text": [
      " 1\n",
      " 1 1\n",
      " 1 2 1\n",
      " 1 3 3 1\n",
      " 1 4 6 4 1\n",
      " 1 5 10 10 5 1\n",
      " 1 6 15 20 15 6 1\n"
     ]
    }
   ],
   "source": [
    "n = 7\n",
    "for i in range(1, n+1): \n",
    "    num = 1\n",
    "    for j in range(1, i+1): \n",
    "        print(' ', num, sep='', end='')\n",
    "        num = num * (i - j) // j \n",
    "\n",
    "    print()"
   ]
  },
  {
   "cell_type": "markdown",
   "metadata": {},
   "source": [
    "# 07"
   ]
  },
  {
   "cell_type": "code",
   "execution_count": 107,
   "metadata": {},
   "outputs": [
    {
     "name": "stdout",
     "output_type": "stream",
     "text": [
      "1 2 3 4 5 \n",
      "2 2 3 4 5 \n",
      "3 3 3 4 5 \n",
      "4 4 4 4 5 \n",
      "5 5 5 5 5 \n"
     ]
    }
   ],
   "source": [
    "rows = 5\n",
    "for i in range(1, rows + 1):\n",
    "    for j in range(1, rows + 1):\n",
    "        if j <= i:\n",
    "            print(i, end=' ')\n",
    "        else:\n",
    "            print(j, end=' ')\n",
    "    print()"
   ]
  },
  {
   "cell_type": "markdown",
   "metadata": {},
   "source": [
    "# 08"
   ]
  },
  {
   "cell_type": "code",
   "execution_count": 108,
   "metadata": {},
   "outputs": [
    {
     "name": "stdout",
     "output_type": "stream",
     "text": [
      "1  \n",
      "2  4  \n",
      "3  6  9  \n",
      "4  8  12  16  \n",
      "5  10  15  20  25  \n",
      "6  12  18  24  30  36  \n",
      "7  14  21  28  35  42  49  \n",
      "8  16  24  32  40  48  56  64  \n"
     ]
    }
   ],
   "source": [
    "rows = 8\n",
    "for i in range(1, rows + 1):\n",
    "    for j in range(1, i + 1):\n",
    "        sqr = i * j\n",
    "        print(i * j, end='  ')\n",
    "    print()"
   ]
  },
  {
   "cell_type": "markdown",
   "metadata": {},
   "source": [
    "# 09"
   ]
  },
  {
   "cell_type": "code",
   "execution_count": 60,
   "metadata": {},
   "outputs": [
    {
     "name": "stdout",
     "output_type": "stream",
     "text": [
      "\n",
      "\n",
      "\t   *  *  *  *  *  *  \n",
      "\t     *  *  *  *  *  \n",
      "\t       *  *  *  *  \n",
      "\t         *  *  *  \n",
      "\t           *  *  \n",
      "\t             *  \n"
     ]
    }
   ],
   "source": [
    "k=6\n",
    "z=1\n",
    "\n",
    "print(\"\\n\")\n",
    "while k>=1:\n",
    "    m=k\n",
    "    zz=z\n",
    "    print(\"\\t\",end=' ')\n",
    "    while z>=1:\n",
    "        print(' ',end=' ')\n",
    "        z-=1\n",
    "    \n",
    "    while m>=1:\n",
    "        \n",
    "        print(\"*\",end='  ')\n",
    "        m-=1\n",
    "        \n",
    "    print(end='\\n')\n",
    "    \n",
    "    k-=1\n",
    "    z=zz+1"
   ]
  },
  {
   "cell_type": "markdown",
   "metadata": {},
   "source": [
    "# 10"
   ]
  },
  {
   "cell_type": "code",
   "execution_count": 39,
   "metadata": {},
   "outputs": [
    {
     "name": "stdout",
     "output_type": "stream",
     "text": [
      "\n",
      "\n",
      "\t       \n",
      "\t      *  \n",
      "\t     *  *  \n",
      "\t    *  *  *  \n",
      "\t   *  *  *  *  \n",
      "\t  *  *  *  *  *  \n",
      "\t *  *  *  *  *  *  \n",
      "\t*  *  *  *  *  *  *  \n"
     ]
    }
   ],
   "source": [
    "k=1\n",
    "z=6\n",
    "\n",
    "print(\"\\n\")\n",
    "while k<=8:\n",
    "    m=k\n",
    "\n",
    "    zz=z\n",
    "    print(\"\\t\",end='')\n",
    "    while z>=0:\n",
    "        print(end=' ')\n",
    "        z-=1\n",
    "    \n",
    "    while m>1:\n",
    "        \n",
    "        print(\"*\",end='  ')\n",
    "        m-=1\n",
    "        \n",
    "    print(end='\\n')\n",
    "    \n",
    "    k+=1\n",
    "    z=zz-1"
   ]
  },
  {
   "cell_type": "markdown",
   "metadata": {},
   "source": [
    "# 11"
   ]
  },
  {
   "cell_type": "code",
   "execution_count": 5,
   "metadata": {},
   "outputs": [
    {
     "name": "stdout",
     "output_type": "stream",
     "text": [
      "\n",
      "\n",
      "\t \n",
      "\t \n",
      "\t *  \n",
      "\t *  *  \n",
      "\t *  *  *  \n",
      "\t *  *  *  *  \n",
      "\t *  *  *  *  *  \n",
      "\t *  *  *  *  *  *  \n",
      "\n",
      "\n",
      "\t *  *  *  *  *  *  \n",
      "\t *  *  *  *  *  \n",
      "\t *  *  *  *  \n",
      "\t *  *  *  \n",
      "\t *  *  \n",
      "\t *  \n"
     ]
    }
   ],
   "source": [
    "k=1\n",
    "z=6\n",
    "\n",
    "print(\"\\n\")\n",
    "while k<=8:\n",
    "    m=k\n",
    "\n",
    "    zz=z\n",
    "    print(\"\\t\",end=' ')\n",
    "  \n",
    "    \n",
    "    while m>2:\n",
    "        \n",
    "        print(\"*\",end='  ')\n",
    "        m-=1\n",
    "        \n",
    "    print(end='\\n')\n",
    "    \n",
    "    k+=1\n",
    "    z=zz-1\n",
    "    \n",
    "k=6    \n",
    "z=1\n",
    "\n",
    "k=6\n",
    "z=1\n",
    "\n",
    "print(\"\\n\")\n",
    "while k>=1:\n",
    "    m=k\n",
    "    zz=z\n",
    "    print(\"\\t\",end=' ')\n",
    "    \n",
    "    \n",
    "    while m>=1:\n",
    "        \n",
    "        print(\"*\",end='  ')\n",
    "        m-=1\n",
    "        \n",
    "    print(end='\\n')\n",
    "    \n",
    "    k-=1\n",
    "    z=zz+1"
   ]
  },
  {
   "cell_type": "markdown",
   "metadata": {},
   "source": [
    "# 12"
   ]
  },
  {
   "cell_type": "code",
   "execution_count": 30,
   "metadata": {},
   "outputs": [
    {
     "name": "stdout",
     "output_type": "stream",
     "text": [
      "* \n",
      "* * \n",
      "* * * \n",
      "* * * * \n",
      "* * * * * \n",
      "* * * * \n",
      "* * * \n",
      "* * \n",
      "* \n",
      "\n"
     ]
    }
   ],
   "source": [
    "row=1\n",
    "while row<=9:\n",
    "    if row<=5:\n",
    "        col=row\n",
    "        temp=row\n",
    "        while col>=1:\n",
    "            print('* ',end='')\n",
    "            col-=1\n",
    "        if temp==5:\n",
    "            print()\n",
    "            for j in range(0,4):\n",
    "                print(\"* \",end='')\n",
    "    else:\n",
    "        col=9-row\n",
    "        while col>=1:\n",
    "            print(\"* \",end='')\n",
    "            col-=1\n",
    "    print()\n",
    "    row+=1\n",
    "\n"
   ]
  },
  {
   "cell_type": "markdown",
   "metadata": {},
   "source": [
    "# 13"
   ]
  },
  {
   "cell_type": "code",
   "execution_count": 54,
   "metadata": {},
   "outputs": [
    {
     "name": "stdout",
     "output_type": "stream",
     "text": [
      "        * \n",
      "      * * \n",
      "    * * * \n",
      "  * * * * \n",
      "* * * * * \n",
      "  * * * * \n",
      "    * * * \n",
      "      * * \n",
      "        * \n"
     ]
    }
   ],
   "source": [
    "row=5\n",
    "while row>=1:\n",
    "    col=row-1\n",
    "    while col>=1:\n",
    "        print('  ',end='')\n",
    "        col-=1\n",
    "    stars=5-(row-1)\n",
    "    while stars>=1:\n",
    "        print(\"* \",end='')\n",
    "        stars-=1\n",
    "    print()\n",
    "    row-=1\n",
    "row=4\n",
    "while row>=1:\n",
    "    col=4-row+1\n",
    "    while col>=1:\n",
    "        print('  ',end='')\n",
    "        col-=1\n",
    "    stars=row\n",
    "    while stars>=1:\n",
    "        print(\"*\",end=' ')\n",
    "        stars-=1\n",
    "    print()\n",
    "    row-=1\n",
    "    \n",
    "        \n"
   ]
  },
  {
   "cell_type": "markdown",
   "metadata": {},
   "source": [
    "# 14"
   ]
  },
  {
   "cell_type": "code",
   "execution_count": 98,
   "metadata": {},
   "outputs": [
    {
     "name": "stdout",
     "output_type": "stream",
     "text": [
      "\n",
      "\n",
      "\t * * * * * \n",
      "\t  * * * * \n",
      "\t   * * * \n",
      "\t    * * \n",
      "\t     * \n",
      "             * \n",
      "            * * \n",
      "           * * * \n",
      "          * * * * \n",
      "         * * * * * \n"
     ]
    }
   ],
   "source": [
    "k=5\n",
    "z=1\n",
    "\n",
    "print(\"\\n\")\n",
    "while k>=1:\n",
    "    m=k\n",
    "    zz=z\n",
    "    print(\"\\t\",end='')\n",
    "    while z>=1:\n",
    "        print('',end=' ')\n",
    "        z-=1\n",
    "    \n",
    "    while m>=1:\n",
    "        \n",
    "        print(\"*\",end=' ')\n",
    "        m-=1\n",
    "        \n",
    "    print()\n",
    "    \n",
    "    k-=1\n",
    "    z=zz+1\n",
    "k=2\n",
    "z=6\n",
    "\n",
    "while k<=6:\n",
    "    m=k\n",
    "\n",
    "    zz=z\n",
    "    print(\"     \",end=' ')\n",
    "    while z>=0:\n",
    "        print(' ',end='')\n",
    "        z-=1\n",
    "    \n",
    "    while m>1:\n",
    "        \n",
    "        print(\"*\",end=' ')\n",
    "        m-=1\n",
    "        \n",
    "    print(end='\\n')\n",
    "    \n",
    "    k+=1\n",
    "    z=zz-1\n",
    "    \n",
    "    "
   ]
  },
  {
   "cell_type": "markdown",
   "metadata": {},
   "source": [
    "# 15"
   ]
  },
  {
   "cell_type": "code",
   "execution_count": null,
   "metadata": {},
   "outputs": [],
   "source": [
    "row = 14\n",
    "print(\"*\" * rows, end=\"\\n\")\n",
    "i = (rows // 2)\n",
    "i-=1\n",
    "j = 2\n",
    "while i != 0:\n",
    "    while j <= (rows - 2):\n",
    "        print(\"*\" * i, end=\"\")\n",
    "        print(\"_\" * j, end=\"\")\n",
    "        print(\"*\" * i, end=\"\\n\")\n",
    "        i = i - 1\n",
    "        j = j + 2"
   ]
  }
 ],
 "metadata": {
  "kernelspec": {
   "display_name": "Python 3",
   "language": "python",
   "name": "python3"
  },
  "language_info": {
   "codemirror_mode": {
    "name": "ipython",
    "version": 3
   },
   "file_extension": ".py",
   "mimetype": "text/x-python",
   "name": "python",
   "nbconvert_exporter": "python",
   "pygments_lexer": "ipython3",
   "version": "3.8.5"
  }
 },
 "nbformat": 4,
 "nbformat_minor": 4
}
